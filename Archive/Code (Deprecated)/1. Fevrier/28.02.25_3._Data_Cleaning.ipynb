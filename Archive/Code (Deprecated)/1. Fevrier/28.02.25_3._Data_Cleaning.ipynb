{
 "cells": [
  {
   "cell_type": "markdown",
   "metadata": {},
   "source": [
    "Uses Matplotlib, pandas, and openpxyl\n",
    "Serves to learn more about our first Data"
   ]
  },
  {
   "cell_type": "markdown",
   "metadata": {},
   "source": [
    "**0. Installing Dependencies**"
   ]
  },
  {
   "cell_type": "code",
   "execution_count": 10,
   "metadata": {},
   "outputs": [
    {
     "name": "stdout",
     "output_type": "stream",
     "text": [
      "Note: you may need to restart the kernel to use updated packages.\n"
     ]
    }
   ],
   "source": [
    "#Dependencies\n",
    "%pip install openpyxl matplotlib pandas -q"
   ]
  },
  {
   "cell_type": "markdown",
   "metadata": {},
   "source": [
    "**1. Retrieving Data**"
   ]
  },
  {
   "cell_type": "code",
   "execution_count": null,
   "metadata": {},
   "outputs": [
    {
     "name": "stdout",
     "output_type": "stream",
     "text": [
      "Index(['Zeitstempel', 'kWh', 'kWh.1', 'kWh.2', 'kWh.3', 'kWh.4', 'kWh.5',\n",
      "       'kWh.6', 'kWh.7', 'kWh.8', 'kWh.9', 'kWh.10', 'kWh.11', 'kWh.12',\n",
      "       'kWh.13', 'kWh.14', 'kWh.15', 'kWh.16', 'kWh.17', 'kWh.18', 'kWh.19',\n",
      "       'Euro/MWh', 'Euro/MWh.1', 'Euro/MWh.2', 'Euro/MWh.3', 'kWh.20',\n",
      "       'kWh.21', 'kWh.22', 'kWh.23', 'kWh.24', 'kWh.25', 'kWh.26', 'kWh.27',\n",
      "       'kWh.28', 'kWh.29', 'kWh.30', 'kWh.31', 'kWh.32', 'kWh.33', 'kWh.34',\n",
      "       'kWh.35', 'kWh.36', 'kWh.37', 'kWh.38', 'kWh.39', 'kWh.40', 'kWh.41',\n",
      "       'kWh.42', 'kWh.43', 'kWh.44', 'kWh.45', 'kWh.46', 'kWh.47', 'kWh.48',\n",
      "       'kWh.49', 'kWh.50', 'kWh.51', 'kWh.52', 'kWh.53', 'kWh.54', 'kWh.55',\n",
      "       'kWh.56', 'kWh.57', 'kWh.58', 'kWh.59'],\n",
      "      dtype='object')\n"
     ]
    }
   ],
   "source": [
    "import pandas as pd\n",
    "file_path = '../../Data/EnergieUebersichtCH-2024.xlsx' \n",
    "xls = pd.ExcelFile(file_path)\n",
    "#Data in this case in the 3rd sheet Zeitreihen0h15\n",
    "df = pd.read_excel(xls, sheet_name='Zeitreihen0h15', header=1, nrows=300)\n",
    "print(df.columns)\n"
   ]
  },
  {
   "cell_type": "markdown",
   "metadata": {},
   "source": [
    "**2. Data variables / potential parameters** "
   ]
  },
  {
   "cell_type": "markdown",
   "metadata": {},
   "source": [
    "**Pre-processing step** Renaming column names to be clear"
   ]
  },
  {
   "cell_type": "code",
   "execution_count": null,
   "metadata": {},
   "outputs": [],
   "source": [
    "column_mapping = {\n",
    "    'kWh': 'Total Energy Consumed by End Users (kWh)',\n",
    "    'kWh.1': 'Total Energy Production (kWh)',\n",
    "    'kWh.2': 'Total Energy Consumption (kWh)',\n",
    "    'kWh.3': 'Net Outflow (kWh)',\n",
    "    'kWh.4': 'Grid Feed-In (kWh)',\n",
    "    'kWh.5': 'Positive Secondary Control Energy (kWh)',\n",
    "    'kWh.6': 'Negative Secondary Control Energy (kWh)',\n",
    "    'kWh.7': 'Positive Tertiary Control Energy (kWh)',\n",
    "    'kWh.8': 'Negative Tertiary Control Energy (kWh)'\n",
    "}\n",
    "\n",
    "df.rename(columns=column_mapping, inplace=True)\n"
   ]
  },
  {
   "cell_type": "markdown",
   "metadata": {},
   "source": [
    "**A. Total Energy Consumed by End Users in the Swiss Control Block** The total of the end-user energy consumption in the Swiss control area."
   ]
  },
  {
   "cell_type": "markdown",
   "metadata": {},
   "source": [
    "Filterning for non-numbers"
   ]
  },
  {
   "cell_type": "code",
   "execution_count": null,
   "metadata": {},
   "outputs": [],
   "source": [
    "produced_energy_col = 'Total Energy Production (kWh)'\n",
    "consumed_energy_col = 'Total Energy Consumed by End Users (kWh)'  \n",
    "df[produced_energy_col] = pd.to_numeric(df[produced_energy_col], errors='coerce')\n",
    "df[consumed_energy_col] = pd.to_numeric(df[consumed_energy_col], errors='coerce')\n",
    "\n",
    "# Drop all non valid numbers\n",
    "df.dropna(subset=[produced_energy_col, consumed_energy_col], inplace=True)\n"
   ]
  },
  {
   "cell_type": "markdown",
   "metadata": {},
   "source": [
    "Filterning for negatives and maybe nulls"
   ]
  },
  {
   "cell_type": "code",
   "execution_count": 12,
   "metadata": {},
   "outputs": [],
   "source": [
    "produced_valid = df['Total Energy Production (kWh)'] >= 0\n",
    "consumed_valid = df['Total Energy Consumed by End Users (kWh)'] > 0\n",
    "#Filter the DataFrame to keep only rows where both conditions are True\n",
    "df = df[produced_valid & consumed_valid]"
   ]
  },
  {
   "cell_type": "markdown",
   "metadata": {},
   "source": [
    "Result:"
   ]
  },
  {
   "cell_type": "code",
   "execution_count": 11,
   "metadata": {},
   "outputs": [
    {
     "name": "stdout",
     "output_type": "stream",
     "text": [
      "\n",
      "After filtering:\n",
      "          Zeitstempel  Total Energy Consumed by End Users (kWh)  \\\n",
      "0    01.01.2024 00:15                              1.443842e+06   \n",
      "1    01.01.2024 00:30                              1.442366e+06   \n",
      "2    01.01.2024 00:45                              1.432568e+06   \n",
      "3    01.01.2024 01:00                              1.420472e+06   \n",
      "4    01.01.2024 01:15                              1.445856e+06   \n",
      "..                ...                                       ...   \n",
      "295  04.01.2024 02:00                              1.356024e+06   \n",
      "296  04.01.2024 02:15                              1.381558e+06   \n",
      "297  04.01.2024 02:30                              1.362220e+06   \n",
      "298  04.01.2024 02:45                              1.349252e+06   \n",
      "299  04.01.2024 03:00                              1.338703e+06   \n",
      "\n",
      "     Total Energy Production (kWh)  Total Energy Consumption (kWh)  \\\n",
      "0                      1296448.710                    1.939192e+06   \n",
      "1                      1294126.969                    1.921878e+06   \n",
      "2                      1289417.659                    1.914425e+06   \n",
      "3                      1284384.421                    1.917196e+06   \n",
      "4                      1291409.092                    1.970522e+06   \n",
      "..                             ...                             ...   \n",
      "295                    1308643.196                    1.970832e+06   \n",
      "296                    1310618.806                    1.970983e+06   \n",
      "297                    1303543.801                    1.955286e+06   \n",
      "298                    1296305.585                    1.950197e+06   \n",
      "299                    1295592.009                    1.948871e+06   \n",
      "\n",
      "     Net Outflow (kWh)  Grid Feed-In (kWh)  \\\n",
      "0        604676.573540          850645.392   \n",
      "1        592319.128547          848182.105   \n",
      "2        590134.979637          849752.292   \n",
      "3        594518.189287          850455.833   \n",
      "4        642303.570950          838562.397   \n",
      "..                 ...                 ...   \n",
      "295      629896.063000          821995.735   \n",
      "296      628719.839000          833008.968   \n",
      "297      619081.843000          831899.018   \n",
      "298      621399.680000          825109.069   \n",
      "299      619395.379000          822789.121   \n",
      "\n",
      "     Positive Secondary Control Energy (kWh)  \\\n",
      "0                                          0   \n",
      "1                                          0   \n",
      "2                                          0   \n",
      "3                                          0   \n",
      "4                                       3550   \n",
      "..                                       ...   \n",
      "295                                      165   \n",
      "296                                      101   \n",
      "297                                        0   \n",
      "298                                       27   \n",
      "299                                      115   \n",
      "\n",
      "     Negative Secondary Control Energy (kWh)  \\\n",
      "0                                          0   \n",
      "1                                          0   \n",
      "2                                          0   \n",
      "3                                          0   \n",
      "4                                       -193   \n",
      "..                                       ...   \n",
      "295                                     -702   \n",
      "296                                    -3949   \n",
      "297                                   -10900   \n",
      "298                                    -4858   \n",
      "299                                    -5218   \n",
      "\n",
      "     Positive Tertiary Control Energy (kWh)  \\\n",
      "0                                         0   \n",
      "1                                         0   \n",
      "2                                         0   \n",
      "3                                         0   \n",
      "4                                     35000   \n",
      "..                                      ...   \n",
      "295                                       0   \n",
      "296                                   14750   \n",
      "297                                   14750   \n",
      "298                                       0   \n",
      "299                                       0   \n",
      "\n",
      "     Negative Tertiary Control Energy (kWh)  ...     kWh.50     kWh.51  \\\n",
      "0                                         0  ...  10894.643  27995.643   \n",
      "1                                         0  ...  10760.790  27521.791   \n",
      "2                                         0  ...  11102.976  27440.977   \n",
      "3                                         0  ...  14573.546  26529.546   \n",
      "4                                         0  ...  15080.385  27471.388   \n",
      "..                                      ...  ...        ...        ...   \n",
      "295                                  -25750  ...   9287.086  23297.085   \n",
      "296                                       0  ...   7985.240  24295.240   \n",
      "297                                       0  ...   8078.987  23614.986   \n",
      "298                                       0  ...   7923.169  22914.170   \n",
      "299                                  -11000  ...   7753.770  22141.771   \n",
      "\n",
      "        kWh.52      kWh.53     kWh.54      kWh.55      kWh.56        kWh.57  \\\n",
      "0    41352.810  229333.429  22468.380  251422.561  119689.268  36427.033460   \n",
      "1    41058.415  224283.806  22550.210  252227.424  120907.426  33431.673453   \n",
      "2    40457.555  222318.856  22291.411  248822.329  120503.211  32682.266363   \n",
      "3    39970.835  219582.402  22366.316  247489.263  121617.803  36437.505713   \n",
      "4    40153.339  234451.050  23566.420  245579.158  132227.077  33732.201050   \n",
      "..         ...         ...        ...         ...         ...           ...   \n",
      "295  54398.405  239020.987  24492.267  223998.873  121121.643  33059.044000   \n",
      "296  54393.086  237528.311  24596.112  233811.874  121267.144  31702.689000   \n",
      "297  54268.063  238407.179  24516.111  229223.437  120891.448  32852.713000   \n",
      "298  54458.129  237274.917  24531.138  227438.618  120690.142  31567.339000   \n",
      "299  54378.268  236053.183  24550.152  221310.526  121644.481  33939.614000   \n",
      "\n",
      "       kWh.58     kWh.59  \n",
      "0    3084.080  11931.964  \n",
      "1    2418.287  11990.990  \n",
      "2    2948.361  11757.277  \n",
      "3    3329.060  11553.676  \n",
      "4    3190.238  11922.976  \n",
      "..        ...        ...  \n",
      "295  3106.415  14640.562  \n",
      "296  2876.418  13957.683  \n",
      "297  2863.545  13756.959  \n",
      "298  2863.168  14076.390  \n",
      "299  2890.056  14162.289  \n",
      "\n",
      "[300 rows x 65 columns]\n"
     ]
    }
   ],
   "source": [
    "print(\"\\nAfter filtering:\")\n",
    "print(df)"
   ]
  },
  {
   "cell_type": "markdown",
   "metadata": {},
   "source": [
    "**B. Total Energy Production in the Swiss Control Block**\n",
    "The total amount of energy generated within the Swiss control area, including power from hydroelectric, nuclear, solar, and other sources."
   ]
  },
  {
   "cell_type": "markdown",
   "metadata": {},
   "source": [
    "**C. Total Energy Consumption in the Swiss Control Block**\n",
    "The total energy used within the Swiss control area, including end-user consumption and grid losses."
   ]
  },
  {
   "cell_type": "markdown",
   "metadata": {},
   "source": [
    "**D. Net Outflow of the Swiss Transmission Grid**\n",
    "The balance of electricity flowing out of the Swiss transmission grid, calculated as exports minus imports."
   ]
  },
  {
   "cell_type": "markdown",
   "metadata": {},
   "source": [
    "**E. Grid Feed-In Swiss Transmission Grid**\n",
    "The total amount of energy fed into the Swiss transmission grid from various power generation sources."
   ]
  },
  {
   "cell_type": "markdown",
   "metadata": {},
   "source": [
    "**F. Positive Secondary Control Energy**\n",
    "The amount of additional energy supplied to stabilize the grid when demand exceeds supply, helping to maintain frequency stability."
   ]
  },
  {
   "cell_type": "markdown",
   "metadata": {},
   "source": [
    "**G. Negative Secondary Control Energy**\n",
    "The amount of energy reduced or removed from the grid when supply exceeds demand, balancing the system.\n",
    "\n"
   ]
  },
  {
   "cell_type": "markdown",
   "metadata": {},
   "source": [
    "**H. Positive Tertiary Control Energy**\n",
    "Additional energy reserves activated to stabilize the grid in case secondary control is insufficient, typically used for longer durations.\n"
   ]
  },
  {
   "cell_type": "markdown",
   "metadata": {},
   "source": [
    "**I. Negative Tertiary Control Energy**\n",
    "The reduction of energy fed into the grid to restore balance when supply exceeds demand over a longer period."
   ]
  }
 ],
 "metadata": {
  "kernelspec": {
   "display_name": "Python 3",
   "language": "python",
   "name": "python3"
  },
  "language_info": {
   "codemirror_mode": {
    "name": "ipython",
    "version": 3
   },
   "file_extension": ".py",
   "mimetype": "text/x-python",
   "name": "python",
   "nbconvert_exporter": "python",
   "pygments_lexer": "ipython3",
   "version": "3.11.11"
  }
 },
 "nbformat": 4,
 "nbformat_minor": 2
}
