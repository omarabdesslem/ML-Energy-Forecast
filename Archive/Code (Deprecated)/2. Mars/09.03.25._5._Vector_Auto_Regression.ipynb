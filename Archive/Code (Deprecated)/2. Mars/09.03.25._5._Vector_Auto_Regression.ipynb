{
 "cells": [
  {
   "cell_type": "markdown",
   "metadata": {},
   "source": [
    "My Goal is to understand one of the fundemantals of Machine Learning techniques. "
   ]
  },
  {
   "cell_type": "markdown",
   "metadata": {},
   "source": [
    "From my understanding, Auto-regression is based on creating a function f_t(y) with y the variable to be \"analysed\", in function of time. "
   ]
  },
  {
   "cell_type": "markdown",
   "metadata": {},
   "source": [
    "**0. Installing Dependencies**"
   ]
  },
  {
   "cell_type": "code",
   "execution_count": null,
   "metadata": {},
   "outputs": [
    {
     "name": "stdout",
     "output_type": "stream",
     "text": [
      "Note: you may need to restart the kernel to use updated packages.\n"
     ]
    }
   ],
   "source": [
    "#Dependencies\n",
    "%pip install openpyxl matplotlib pandas -q"
   ]
  },
  {
   "cell_type": "markdown",
   "metadata": {},
   "source": [
    "**1. Retrieving Data**"
   ]
  },
  {
   "cell_type": "code",
   "execution_count": null,
   "metadata": {},
   "outputs": [
    {
     "name": "stdout",
     "output_type": "stream",
     "text": [
      "Index(['Zeitstempel', 'kWh', 'kWh.1', 'kWh.2', 'kWh.3', 'kWh.4', 'kWh.5',\n",
      "       'kWh.6', 'kWh.7', 'kWh.8', 'kWh.9', 'kWh.10', 'kWh.11', 'kWh.12',\n",
      "       'kWh.13', 'kWh.14', 'kWh.15', 'kWh.16', 'kWh.17', 'kWh.18', 'kWh.19',\n",
      "       'Euro/MWh', 'Euro/MWh.1', 'Euro/MWh.2', 'Euro/MWh.3', 'kWh.20',\n",
      "       'kWh.21', 'kWh.22', 'kWh.23', 'kWh.24', 'kWh.25', 'kWh.26', 'kWh.27',\n",
      "       'kWh.28', 'kWh.29', 'kWh.30', 'kWh.31', 'kWh.32', 'kWh.33', 'kWh.34',\n",
      "       'kWh.35', 'kWh.36', 'kWh.37', 'kWh.38', 'kWh.39', 'kWh.40', 'kWh.41',\n",
      "       'kWh.42', 'kWh.43', 'kWh.44', 'kWh.45', 'kWh.46', 'kWh.47', 'kWh.48',\n",
      "       'kWh.49', 'kWh.50', 'kWh.51', 'kWh.52', 'kWh.53', 'kWh.54', 'kWh.55',\n",
      "       'kWh.56', 'kWh.57', 'kWh.58', 'kWh.59'],\n",
      "      dtype='object')\n"
     ]
    }
   ],
   "source": [
    "import pandas as pd\n",
    "file_path = '../../Data/EnergieUebersichtCH-2024.xlsx' \n",
    "xls = pd.ExcelFile(file_path)\n",
    "#Dataframe in this case in the 3rd sheet Zeitreihen0h15\n",
    "df = pd.read_excel(xls, sheet_name='Zeitreihen0h15', header=1, nrows=300)\n",
    "print(df.columns)\n"
   ]
  },
  {
   "cell_type": "markdown",
   "metadata": {},
   "source": [
    "**2. Data variables / potential parameters** "
   ]
  },
  {
   "cell_type": "markdown",
   "metadata": {},
   "source": [
    "**Pre-processing step** Renaming column names to be clear"
   ]
  },
  {
   "cell_type": "code",
   "execution_count": null,
   "metadata": {},
   "outputs": [],
   "source": [
    "column_mapping = {\n",
    "    'kWh': 'Total Energy Consumed by End Users (kWh)',\n",
    "    'kWh.1': 'Total Energy Production (kWh)',\n",
    "    'kWh.2': 'Total Energy Consumption (kWh)',\n",
    "    'kWh.3': 'Net Outflow (kWh)',\n",
    "    'kWh.4': 'Grid Feed-In (kWh)',\n",
    "    'kWh.5': 'Positive Secondary Control Energy (kWh)',\n",
    "    'kWh.6': 'Negative Secondary Control Energy (kWh)',\n",
    "    'kWh.7': 'Positive Tertiary Control Energy (kWh)',\n",
    "    'kWh.8': 'Negative Tertiary Control Energy (kWh)'\n",
    "}\n",
    "\n",
    "df.rename(columns=column_mapping, inplace=True)\n"
   ]
  },
  {
   "cell_type": "markdown",
   "metadata": {},
   "source": [
    "Now that we have the data correct set up, let's create two tables: weights, prev_values and the bias"
   ]
  },
  {
   "cell_type": "code",
   "execution_count": null,
   "metadata": {},
   "outputs": [
    {
     "name": "stdout",
     "output_type": "stream",
     "text": [
      "1973067.723669\n"
     ]
    }
   ],
   "source": [
    "weights = [0 for i in range(100)]\n",
    "prev_values = [0 for i in range(100)]\n",
    "y = 100\n",
    "bias = 0\n",
    "\n",
    "energy_consumption_data = df['Total Energy Consumption (kWh)'].dropna().values\n",
    "f_y = df['Total Energy Consumption (kWh)'][y]\n",
    "print(f_y)\n"
   ]
  },
  {
   "cell_type": "markdown",
   "metadata": {},
   "source": [
    "We have multiple values to affix here, we need to find the weights to approximate our current consumed energy at time t (f(y)). We can use Linear regression to try to find the weights and the bias?"
   ]
  },
  {
   "cell_type": "markdown",
   "metadata": {},
   "source": [
    "Let's start by importing our dataset"
   ]
  }
 ],
 "metadata": {
  "language_info": {
   "name": "python"
  }
 },
 "nbformat": 4,
 "nbformat_minor": 2
}
