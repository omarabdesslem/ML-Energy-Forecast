{
 "cells": [
  {
   "cell_type": "code",
   "execution_count": 2,
   "id": "a842416a",
   "metadata": {},
   "outputs": [
    {
     "name": "stdout",
     "output_type": "stream",
     "text": [
      "Note: you may need to restart the kernel to use updated packages.\n"
     ]
    }
   ],
   "source": [
    "%pip install xarray cfgrib eccodes -q"
   ]
  },
  {
   "cell_type": "code",
   "execution_count": 3,
   "id": "137b1538",
   "metadata": {},
   "outputs": [],
   "source": [
    "import cdsapi\n",
    "c = cdsapi.Client()"
   ]
  },
  {
   "cell_type": "markdown",
   "id": "cba95d86",
   "metadata": {},
   "source": [
    "Bounding Lateral/Longetudinal values for Swizerland"
   ]
  },
  {
   "cell_type": "code",
   "execution_count": 5,
   "id": "0589ccb3",
   "metadata": {},
   "outputs": [],
   "source": [
    "lat_min = 45.8\n",
    "lat_max = 48.5\n",
    "lon_min = 5.9\n",
    "lon_max = 10.5"
   ]
  },
  {
   "cell_type": "code",
   "execution_count": null,
   "id": "0c159a5d",
   "metadata": {},
   "outputs": [
    {
     "name": "stderr",
     "output_type": "stream",
     "text": [
      "/opt/homebrew/lib/python3.11/site-packages/cfgrib/xarray_plugin.py:131: FutureWarning: In a future version of xarray decode_timedelta will default to False rather than None. To silence this warning, set decode_timedelta to True, False, or a 'CFTimedeltaCoder' instance.\n",
      "  vars, attrs, coord_names = xr.conventions.decode_cf_variables(\n"
     ]
    }
   ],
   "source": [
    "import xarray as xr\n",
    "\n",
    "# Open GRIB file using cfgrib engine\n",
    "ds = xr.open_dataset(\"../../Data/Weather/Seasonal forecast anomalies on single levels.grib\", engine=\"cfgrib\")\n",
    "\n",
    "# Subset to Switzerland only\n",
    "swiss = ds['t2a'].sel(\n",
    "    latitude=slice(lat_max, lat_min),  # North to South\n",
    "    longitude=slice(lon_min, lon_max)  # West to East\n",
    ")\n"
   ]
  },
  {
   "cell_type": "code",
   "execution_count": 7,
   "id": "ee339f99",
   "metadata": {},
   "outputs": [
    {
     "name": "stdout",
     "output_type": "stream",
     "text": [
      "Issue Date: 2021-01-01 | Avg Temp Anomaly: 0.231 K\n",
      "Issue Date: 2021-02-01 | Avg Temp Anomaly: 0.576 K\n",
      "Issue Date: 2021-03-01 | Avg Temp Anomaly: 0.554 K\n",
      "Issue Date: 2021-04-01 | Avg Temp Anomaly: 0.582 K\n",
      "Issue Date: 2021-05-01 | Avg Temp Anomaly: 0.176 K\n",
      "Issue Date: 2021-06-01 | Avg Temp Anomaly: 0.737 K\n",
      "Issue Date: 2021-07-01 | Avg Temp Anomaly: 0.513 K\n",
      "Issue Date: 2021-08-01 | Avg Temp Anomaly: 0.165 K\n",
      "Issue Date: 2021-09-01 | Avg Temp Anomaly: 0.517 K\n",
      "Issue Date: 2021-10-01 | Avg Temp Anomaly: 0.395 K\n",
      "Issue Date: 2021-11-01 | Avg Temp Anomaly: 0.532 K\n",
      "Issue Date: 2021-12-01 | Avg Temp Anomaly: 0.244 K\n",
      "Issue Date: 2022-01-01 | Avg Temp Anomaly: 0.862 K\n",
      "Issue Date: 2022-02-01 | Avg Temp Anomaly: 0.939 K\n",
      "Issue Date: 2022-03-01 | Avg Temp Anomaly: 1.104 K\n",
      "Issue Date: 2022-04-01 | Avg Temp Anomaly: 0.474 K\n",
      "Issue Date: 2022-05-01 | Avg Temp Anomaly: 0.945 K\n",
      "Issue Date: 2022-06-01 | Avg Temp Anomaly: 0.559 K\n",
      "Issue Date: 2022-07-01 | Avg Temp Anomaly: 0.854 K\n",
      "Issue Date: 2022-08-01 | Avg Temp Anomaly: 0.784 K\n",
      "Issue Date: 2022-09-01 | Avg Temp Anomaly: 0.555 K\n",
      "Issue Date: 2022-10-01 | Avg Temp Anomaly: 0.573 K\n",
      "Issue Date: 2022-11-01 | Avg Temp Anomaly: 0.643 K\n",
      "Issue Date: 2022-12-01 | Avg Temp Anomaly: 0.329 K\n",
      "Issue Date: 2023-01-01 | Avg Temp Anomaly: 0.876 K\n",
      "Issue Date: 2023-02-01 | Avg Temp Anomaly: 0.634 K\n",
      "Issue Date: 2023-03-01 | Avg Temp Anomaly: 0.755 K\n",
      "Issue Date: 2023-04-01 | Avg Temp Anomaly: 0.679 K\n",
      "Issue Date: 2023-05-01 | Avg Temp Anomaly: 0.749 K\n",
      "Issue Date: 2023-06-01 | Avg Temp Anomaly: 1.178 K\n",
      "Issue Date: 2023-07-01 | Avg Temp Anomaly: 1.011 K\n",
      "Issue Date: 2023-08-01 | Avg Temp Anomaly: 0.749 K\n",
      "Issue Date: 2023-09-01 | Avg Temp Anomaly: 1.193 K\n",
      "Issue Date: 2023-10-01 | Avg Temp Anomaly: 1.627 K\n",
      "Issue Date: 2023-11-01 | Avg Temp Anomaly: 1.037 K\n",
      "Issue Date: 2023-12-01 | Avg Temp Anomaly: 0.702 K\n",
      "Issue Date: 2024-01-01 | Avg Temp Anomaly: 0.765 K\n",
      "Issue Date: 2024-02-01 | Avg Temp Anomaly: 1.093 K\n",
      "Issue Date: 2024-03-01 | Avg Temp Anomaly: 1.001 K\n",
      "Issue Date: 2024-04-01 | Avg Temp Anomaly: 1.132 K\n",
      "Issue Date: 2024-05-01 | Avg Temp Anomaly: 0.787 K\n",
      "Issue Date: 2024-06-01 | Avg Temp Anomaly: 0.814 K\n",
      "Issue Date: 2024-07-01 | Avg Temp Anomaly: 0.833 K\n",
      "Issue Date: 2024-08-01 | Avg Temp Anomaly: 0.831 K\n",
      "Issue Date: 2024-09-01 | Avg Temp Anomaly: 0.942 K\n",
      "Issue Date: 2024-10-01 | Avg Temp Anomaly: 0.701 K\n",
      "Issue Date: 2024-11-01 | Avg Temp Anomaly: 1.213 K\n",
      "Issue Date: 2024-12-01 | Avg Temp Anomaly: 0.738 K\n"
     ]
    }
   ],
   "source": [
    "# Average over space (lat/lon) and ensemble members\n",
    "monthly_avg = swiss.mean(dim=['latitude', 'longitude', 'number'])\n",
    "\n",
    "# Loop over time dimension to print monthly forecast issue dates\n",
    "for i in range(monthly_avg.time.size):\n",
    "    issue_month = str(monthly_avg.time.values[i])[:10]  # e.g., '2021-01-01'\n",
    "    \n",
    "    # Mean over all lead times (or choose step=0 if you want only 1 month ahead)\n",
    "    mean_forecast = monthly_avg.isel(time=i).mean(dim='step').values\n",
    "    \n",
    "    print(f\"Issue Date: {issue_month} | Avg Temp Anomaly: {mean_forecast:.3f} K\")\n"
   ]
  },
  {
   "cell_type": "code",
   "execution_count": null,
   "id": "5ff85fdf",
   "metadata": {},
   "outputs": [],
   "source": [
    "import matplotlib.pyplot as plt\n",
    "import pandas as pd\n",
    "\n",
    "# Average over space (lat/lon) and ensemble members\n",
    "monthly_avg = swiss.mean(dim=['latitude', 'longitude', 'number'])\n",
    "\n",
    "# Mean over steps (lead time) — gives monthly anomaly per issue date\n",
    "monthly_mean_anomaly = monthly_avg.mean(dim='step')  # shape: (time,)\n",
    "\n",
    "# Convert to pandas for easy plotting\n",
    "dates = pd.to_datetime(monthly_mean_anomaly.time.values)\n",
    "anomaly_values = monthly_mean_anomaly.values\n",
    "\n",
    "# Plot\n",
    "plt.figure(figsize=(10, 5))\n",
    "plt.plot(dates, anomaly_values, marker='o')\n",
    "plt.title(\"Monthly Avg Temperature Anomalies over Switzerland\")\n",
    "plt.xlabel(\"Forecast Issue Date\")\n",
    "plt.ylabel(\"Temp Anomaly (K)\")\n",
    "plt.grid(True)\n",
    "plt.axhline(0, color='gray', linestyle='--', alpha=0.7)\n",
    "plt.tight_layout()\n",
    "plt.show()\n"
   ]
  }
 ],
 "metadata": {
  "kernelspec": {
   "display_name": "Python 3",
   "language": "python",
   "name": "python3"
  },
  "language_info": {
   "codemirror_mode": {
    "name": "ipython",
    "version": 3
   },
   "file_extension": ".py",
   "mimetype": "text/x-python",
   "name": "python",
   "nbconvert_exporter": "python",
   "pygments_lexer": "ipython3",
   "version": "3.11.13"
  }
 },
 "nbformat": 4,
 "nbformat_minor": 5
}
